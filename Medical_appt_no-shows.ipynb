{
 "cells": [
  {
   "cell_type": "markdown",
   "metadata": {},
   "source": [
    "# Project: Medical Appointment No-shows Data Analysis\n",
    "\n",
    "## Table of Contents\n",
    "<ul>\n",
    "<li><a href=\"#intro\">Introduction</a></li>\n",
    "<li><a href=\"#wrangling\">Data Wrangling</a></li>\n",
    "<li><a href=\"#eda\">Exploratory Data Analysis</a></li>\n",
    "<li><a href=\"#limitations\">Limitations</a></li>\n",
    "<li><a href=\"#conclusions\">Conclusions</a></li>\n",
    "</ul>"
   ]
  },
  {
   "cell_type": "markdown",
   "metadata": {},
   "source": [
    "<a id='intro'></a>\n",
    "## Introduction\n",
    "\n",
    ">This report examines a dataset of 100,000 medical appointments in Brazil. \n",
    "In particular, we will examine the relationships between **failing to show up for a medical appointment** and several patient factors.We will explore and answer the following questions:\n",
    "+ How does receiving an SMS message prior to the appointment relate to a patient being a no-show? \n",
    "+ What is the relationship between enrollment in the Bolsa Familia social welfare program and being a no-show? \n",
    "+ In which neighborhoods do patients miss their medical appointments most frequently? \n",
    "+ How do patient age and missed medical appointments relate? \n",
    "\n",
    "## Motivation\n",
    "Missed medical appointments are a costly problem for healthcare systems, and understanding patient factors related to missed appointments can help healthcare systems identify potential solutions to this problem."
   ]
  },
  {
   "cell_type": "code",
   "execution_count": 1,
   "metadata": {},
   "outputs": [],
   "source": [
    "# import packages\n",
    "import numpy as np\n",
    "import pandas as pd\n",
    "import matplotlib\n",
    "import matplotlib.pyplot as plt\n",
    "%matplotlib inline "
   ]
  },
  {
   "cell_type": "markdown",
   "metadata": {},
   "source": [
    "<a id='wrangling'></a>\n",
    "## Data Wrangling"
   ]
  },
  {
   "cell_type": "code",
   "execution_count": 2,
   "metadata": {},
   "outputs": [],
   "source": [
    "# load the dataset\n",
    "df = pd.read_csv('noshowappointments-kagglev2-may-2016.csv')"
   ]
  },
  {
   "cell_type": "markdown",
   "metadata": {},
   "source": [
    "The Patient ID was originally formatted as a float, but it should be an integer since it's just a label. "
   ]
  },
  {
   "cell_type": "code",
   "execution_count": 3,
   "metadata": {},
   "outputs": [],
   "source": [
    "# change PatientID to integer\n",
    "# I consulted the linked resource: \n",
    "# https://stackoverflow.com/questions/33034559/how-to-remove-last-the-two-digits-in-a-column-that-is-of-integer-type \n",
    "df['PatientId'] = df['PatientId'].astype(np.int64).astype(str).str[:-2].astype(np.int64)"
   ]
  },
  {
   "cell_type": "code",
   "execution_count": 4,
   "metadata": {},
   "outputs": [
    {
     "data": {
      "text/html": [
       "<div>\n",
       "<style scoped>\n",
       "    .dataframe tbody tr th:only-of-type {\n",
       "        vertical-align: middle;\n",
       "    }\n",
       "\n",
       "    .dataframe tbody tr th {\n",
       "        vertical-align: top;\n",
       "    }\n",
       "\n",
       "    .dataframe thead th {\n",
       "        text-align: right;\n",
       "    }\n",
       "</style>\n",
       "<table border=\"1\" class=\"dataframe\">\n",
       "  <thead>\n",
       "    <tr style=\"text-align: right;\">\n",
       "      <th></th>\n",
       "      <th>PatientId</th>\n",
       "      <th>AppointmentID</th>\n",
       "      <th>Gender</th>\n",
       "      <th>ScheduledDay</th>\n",
       "      <th>AppointmentDay</th>\n",
       "      <th>Age</th>\n",
       "      <th>Neighbourhood</th>\n",
       "      <th>Scholarship</th>\n",
       "      <th>Hipertension</th>\n",
       "      <th>Diabetes</th>\n",
       "      <th>Alcoholism</th>\n",
       "      <th>Handcap</th>\n",
       "      <th>SMS_received</th>\n",
       "      <th>No-show</th>\n",
       "    </tr>\n",
       "  </thead>\n",
       "  <tbody>\n",
       "    <tr>\n",
       "      <th>0</th>\n",
       "      <td>298724998242</td>\n",
       "      <td>5642903</td>\n",
       "      <td>F</td>\n",
       "      <td>2016-04-29T18:38:08Z</td>\n",
       "      <td>2016-04-29T00:00:00Z</td>\n",
       "      <td>62</td>\n",
       "      <td>JARDIM DA PENHA</td>\n",
       "      <td>0</td>\n",
       "      <td>1</td>\n",
       "      <td>0</td>\n",
       "      <td>0</td>\n",
       "      <td>0</td>\n",
       "      <td>0</td>\n",
       "      <td>No</td>\n",
       "    </tr>\n",
       "    <tr>\n",
       "      <th>1</th>\n",
       "      <td>5589977766944</td>\n",
       "      <td>5642503</td>\n",
       "      <td>M</td>\n",
       "      <td>2016-04-29T16:08:27Z</td>\n",
       "      <td>2016-04-29T00:00:00Z</td>\n",
       "      <td>56</td>\n",
       "      <td>JARDIM DA PENHA</td>\n",
       "      <td>0</td>\n",
       "      <td>0</td>\n",
       "      <td>0</td>\n",
       "      <td>0</td>\n",
       "      <td>0</td>\n",
       "      <td>0</td>\n",
       "      <td>No</td>\n",
       "    </tr>\n",
       "  </tbody>\n",
       "</table>\n",
       "</div>"
      ],
      "text/plain": [
       "       PatientId  AppointmentID Gender          ScheduledDay  \\\n",
       "0   298724998242        5642903      F  2016-04-29T18:38:08Z   \n",
       "1  5589977766944        5642503      M  2016-04-29T16:08:27Z   \n",
       "\n",
       "         AppointmentDay  Age    Neighbourhood  Scholarship  Hipertension  \\\n",
       "0  2016-04-29T00:00:00Z   62  JARDIM DA PENHA            0             1   \n",
       "1  2016-04-29T00:00:00Z   56  JARDIM DA PENHA            0             0   \n",
       "\n",
       "   Diabetes  Alcoholism  Handcap  SMS_received No-show  \n",
       "0         0           0        0             0      No  \n",
       "1         0           0        0             0      No  "
      ]
     },
     "execution_count": 4,
     "metadata": {},
     "output_type": "execute_result"
    }
   ],
   "source": [
    "# Make sure we fixed the Patient ID\n",
    "df.head(2)"
   ]
  },
  {
   "cell_type": "code",
   "execution_count": 5,
   "metadata": {
    "scrolled": true
   },
   "outputs": [
    {
     "name": "stdout",
     "output_type": "stream",
     "text": [
      "<class 'pandas.core.frame.DataFrame'>\n",
      "RangeIndex: 110527 entries, 0 to 110526\n",
      "Data columns (total 14 columns):\n",
      "PatientId         110527 non-null int64\n",
      "AppointmentID     110527 non-null int64\n",
      "Gender            110527 non-null object\n",
      "ScheduledDay      110527 non-null object\n",
      "AppointmentDay    110527 non-null object\n",
      "Age               110527 non-null int64\n",
      "Neighbourhood     110527 non-null object\n",
      "Scholarship       110527 non-null int64\n",
      "Hipertension      110527 non-null int64\n",
      "Diabetes          110527 non-null int64\n",
      "Alcoholism        110527 non-null int64\n",
      "Handcap           110527 non-null int64\n",
      "SMS_received      110527 non-null int64\n",
      "No-show           110527 non-null object\n",
      "dtypes: int64(9), object(5)\n",
      "memory usage: 11.8+ MB\n"
     ]
    }
   ],
   "source": [
    "# inspect the dataset for missing values.\n",
    "df.info()"
   ]
  },
  {
   "cell_type": "markdown",
   "metadata": {},
   "source": [
    "It looks like there aren't any missing values."
   ]
  },
  {
   "cell_type": "markdown",
   "metadata": {},
   "source": [
    "Since we are not going to investigate anything regarding Gender, Scheduled Day, Appointment Day, Hypertension, Diabetes, Alcoholism, or Handicap, we will drop those columns from our dataset."
   ]
  },
  {
   "cell_type": "code",
   "execution_count": 6,
   "metadata": {},
   "outputs": [],
   "source": [
    "# drop the unnecessary colums and then verify we successfully dropped them from the dataset \n",
    "df.drop(['Gender', 'ScheduledDay', 'AppointmentDay', 'Hipertension', 'Diabetes', 'Alcoholism', 'Handcap'], axis=1, inplace=True)"
   ]
  },
  {
   "cell_type": "markdown",
   "metadata": {},
   "source": [
    "### Data Cleaning\n",
    "#### Encode no-show as a dummy variable and ensure the other variables are ready to use"
   ]
  },
  {
   "cell_type": "markdown",
   "metadata": {},
   "source": [
    "First, we get a summary of the data to assess if the values make sense to see what needs to be cleaned."
   ]
  },
  {
   "cell_type": "code",
   "execution_count": 7,
   "metadata": {},
   "outputs": [
    {
     "data": {
      "text/html": [
       "<div>\n",
       "<style scoped>\n",
       "    .dataframe tbody tr th:only-of-type {\n",
       "        vertical-align: middle;\n",
       "    }\n",
       "\n",
       "    .dataframe tbody tr th {\n",
       "        vertical-align: top;\n",
       "    }\n",
       "\n",
       "    .dataframe thead th {\n",
       "        text-align: right;\n",
       "    }\n",
       "</style>\n",
       "<table border=\"1\" class=\"dataframe\">\n",
       "  <thead>\n",
       "    <tr style=\"text-align: right;\">\n",
       "      <th></th>\n",
       "      <th>PatientId</th>\n",
       "      <th>AppointmentID</th>\n",
       "      <th>Age</th>\n",
       "      <th>Scholarship</th>\n",
       "      <th>SMS_received</th>\n",
       "    </tr>\n",
       "  </thead>\n",
       "  <tbody>\n",
       "    <tr>\n",
       "      <th>count</th>\n",
       "      <td>1.105270e+05</td>\n",
       "      <td>1.105270e+05</td>\n",
       "      <td>110527.000000</td>\n",
       "      <td>110527.000000</td>\n",
       "      <td>110527.000000</td>\n",
       "    </tr>\n",
       "    <tr>\n",
       "      <th>mean</th>\n",
       "      <td>1.474963e+12</td>\n",
       "      <td>5.675305e+06</td>\n",
       "      <td>37.088874</td>\n",
       "      <td>0.098266</td>\n",
       "      <td>0.321026</td>\n",
       "    </tr>\n",
       "    <tr>\n",
       "      <th>std</th>\n",
       "      <td>2.560949e+12</td>\n",
       "      <td>7.129575e+04</td>\n",
       "      <td>23.110205</td>\n",
       "      <td>0.297675</td>\n",
       "      <td>0.466873</td>\n",
       "    </tr>\n",
       "    <tr>\n",
       "      <th>min</th>\n",
       "      <td>3.920000e+02</td>\n",
       "      <td>5.030230e+06</td>\n",
       "      <td>-1.000000</td>\n",
       "      <td>0.000000</td>\n",
       "      <td>0.000000</td>\n",
       "    </tr>\n",
       "    <tr>\n",
       "      <th>25%</th>\n",
       "      <td>4.172614e+10</td>\n",
       "      <td>5.640286e+06</td>\n",
       "      <td>18.000000</td>\n",
       "      <td>0.000000</td>\n",
       "      <td>0.000000</td>\n",
       "    </tr>\n",
       "    <tr>\n",
       "      <th>50%</th>\n",
       "      <td>3.173184e+11</td>\n",
       "      <td>5.680573e+06</td>\n",
       "      <td>37.000000</td>\n",
       "      <td>0.000000</td>\n",
       "      <td>0.000000</td>\n",
       "    </tr>\n",
       "    <tr>\n",
       "      <th>75%</th>\n",
       "      <td>9.439172e+11</td>\n",
       "      <td>5.725524e+06</td>\n",
       "      <td>55.000000</td>\n",
       "      <td>0.000000</td>\n",
       "      <td>1.000000</td>\n",
       "    </tr>\n",
       "    <tr>\n",
       "      <th>max</th>\n",
       "      <td>9.999816e+12</td>\n",
       "      <td>5.790484e+06</td>\n",
       "      <td>115.000000</td>\n",
       "      <td>1.000000</td>\n",
       "      <td>1.000000</td>\n",
       "    </tr>\n",
       "  </tbody>\n",
       "</table>\n",
       "</div>"
      ],
      "text/plain": [
       "          PatientId  AppointmentID            Age    Scholarship  \\\n",
       "count  1.105270e+05   1.105270e+05  110527.000000  110527.000000   \n",
       "mean   1.474963e+12   5.675305e+06      37.088874       0.098266   \n",
       "std    2.560949e+12   7.129575e+04      23.110205       0.297675   \n",
       "min    3.920000e+02   5.030230e+06      -1.000000       0.000000   \n",
       "25%    4.172614e+10   5.640286e+06      18.000000       0.000000   \n",
       "50%    3.173184e+11   5.680573e+06      37.000000       0.000000   \n",
       "75%    9.439172e+11   5.725524e+06      55.000000       0.000000   \n",
       "max    9.999816e+12   5.790484e+06     115.000000       1.000000   \n",
       "\n",
       "        SMS_received  \n",
       "count  110527.000000  \n",
       "mean        0.321026  \n",
       "std         0.466873  \n",
       "min         0.000000  \n",
       "25%         0.000000  \n",
       "50%         0.000000  \n",
       "75%         1.000000  \n",
       "max         1.000000  "
      ]
     },
     "execution_count": 7,
     "metadata": {},
     "output_type": "execute_result"
    }
   ],
   "source": [
    "# summarize the data\n",
    "df.describe()"
   ]
  },
  {
   "cell_type": "markdown",
   "metadata": {},
   "source": [
    "+ The Neighborhood column isn't represented here since the data is in string format, but we already saw that it doesn't have any missing values.  \n",
    "+ The Patient ID and Appointment ID columns look fine.  \n",
    "+ The Age column does have two items worth noting. First, the max age is 115 years old, which seems pretty old. However, the linked resource below shows some people do live to be 115, including a person from Brazil who lived around the time the dataset was collected. So, we will leave that data point untouched. The minimum recorded age is -1. This is not a possible age. Maybe this is referring to a medical appointment for a pregnant woman with an unborn child? Indeed, the dataset creator verified this in the Kaggle discussion forum for the dataset, which is linked below. So, we don't need to change any values in the Age column.  \n",
    "+ Scholarship and SMS_received are both binary variables and their statistics show that there aren't any problems.\n",
    "+ We saw in the output from df.info() that No-show is formatted as a string. We need to convert it to a dummy variable.\n",
    "\n",
    "https://en.wikipedia.org/wiki/List_of_the_verified_oldest_people  \n",
    "https://www.kaggle.com/joniarroba/noshowappointments/version/4/discussion/41457 "
   ]
  },
  {
   "cell_type": "code",
   "execution_count": 8,
   "metadata": {},
   "outputs": [
    {
     "data": {
      "text/html": [
       "<div>\n",
       "<style scoped>\n",
       "    .dataframe tbody tr th:only-of-type {\n",
       "        vertical-align: middle;\n",
       "    }\n",
       "\n",
       "    .dataframe tbody tr th {\n",
       "        vertical-align: top;\n",
       "    }\n",
       "\n",
       "    .dataframe thead th {\n",
       "        text-align: right;\n",
       "    }\n",
       "</style>\n",
       "<table border=\"1\" class=\"dataframe\">\n",
       "  <thead>\n",
       "    <tr style=\"text-align: right;\">\n",
       "      <th></th>\n",
       "      <th>PatientId</th>\n",
       "      <th>AppointmentID</th>\n",
       "      <th>Age</th>\n",
       "      <th>Neighbourhood</th>\n",
       "      <th>Scholarship</th>\n",
       "      <th>SMS_received</th>\n",
       "      <th>No_show</th>\n",
       "    </tr>\n",
       "  </thead>\n",
       "  <tbody>\n",
       "    <tr>\n",
       "      <th>0</th>\n",
       "      <td>298724998242</td>\n",
       "      <td>5642903</td>\n",
       "      <td>62</td>\n",
       "      <td>JARDIM DA PENHA</td>\n",
       "      <td>0</td>\n",
       "      <td>0</td>\n",
       "      <td>0</td>\n",
       "    </tr>\n",
       "    <tr>\n",
       "      <th>1</th>\n",
       "      <td>5589977766944</td>\n",
       "      <td>5642503</td>\n",
       "      <td>56</td>\n",
       "      <td>JARDIM DA PENHA</td>\n",
       "      <td>0</td>\n",
       "      <td>0</td>\n",
       "      <td>0</td>\n",
       "    </tr>\n",
       "  </tbody>\n",
       "</table>\n",
       "</div>"
      ],
      "text/plain": [
       "       PatientId  AppointmentID  Age    Neighbourhood  Scholarship  \\\n",
       "0   298724998242        5642903   62  JARDIM DA PENHA            0   \n",
       "1  5589977766944        5642503   56  JARDIM DA PENHA            0   \n",
       "\n",
       "   SMS_received  No_show  \n",
       "0             0        0  \n",
       "1             0        0  "
      ]
     },
     "execution_count": 8,
     "metadata": {},
     "output_type": "execute_result"
    }
   ],
   "source": [
    "# convert No-show to a dummy variable\n",
    "df['No_show'] = pd.get_dummies(df['No-show'], drop_first=True, dtype=int)\n",
    "# I consulted the linked resource: https://pandas.pydata.org/pandas-docs/stable/generated/pandas.get_dummies.html\n",
    "\n",
    "# drop the original No-show column\n",
    "df.drop('No-show', axis=1, inplace=True)\n",
    "# Check that we successfully encoded, dropped, and added\n",
    "df.head(2)"
   ]
  },
  {
   "cell_type": "markdown",
   "metadata": {},
   "source": [
    "As a final check, we examime the Neighborhood column for any potential issues. "
   ]
  },
  {
   "cell_type": "code",
   "execution_count": 9,
   "metadata": {},
   "outputs": [
    {
     "data": {
      "text/plain": [
       "array(['JARDIM DA PENHA', 'MATA DA PRAIA', 'PONTAL DE CAMBURI',\n",
       "       'REPÚBLICA', 'GOIABEIRAS', 'ANDORINHAS', 'CONQUISTA',\n",
       "       'NOVA PALESTINA', 'DA PENHA', 'TABUAZEIRO', 'BENTO FERREIRA',\n",
       "       'SÃO PEDRO', 'SANTA MARTHA', 'SÃO CRISTÓVÃO', 'MARUÍPE',\n",
       "       'GRANDE VITÓRIA', 'SÃO BENEDITO', 'ILHA DAS CAIEIRAS',\n",
       "       'SANTO ANDRÉ', 'SOLON BORGES', 'BONFIM', 'JARDIM CAMBURI',\n",
       "       'MARIA ORTIZ', 'JABOUR', 'ANTÔNIO HONÓRIO', 'RESISTÊNCIA',\n",
       "       'ILHA DE SANTA MARIA', 'JUCUTUQUARA', 'MONTE BELO',\n",
       "       'MÁRIO CYPRESTE', 'SANTO ANTÔNIO', 'BELA VISTA', 'PRAIA DO SUÁ',\n",
       "       'SANTA HELENA', 'ITARARÉ', 'INHANGUETÁ', 'UNIVERSITÁRIO',\n",
       "       'SÃO JOSÉ', 'REDENÇÃO', 'SANTA CLARA', 'CENTRO', 'PARQUE MOSCOSO',\n",
       "       'DO MOSCOSO', 'SANTOS DUMONT', 'CARATOÍRA', 'ARIOVALDO FAVALESSA',\n",
       "       'ILHA DO FRADE', 'GURIGICA', 'JOANA D´ARC', 'CONSOLAÇÃO',\n",
       "       'PRAIA DO CANTO', 'BOA VISTA', 'MORADA DE CAMBURI', 'SANTA LUÍZA',\n",
       "       'SANTA LÚCIA', 'BARRO VERMELHO', 'ESTRELINHA', 'FORTE SÃO JOÃO',\n",
       "       'FONTE GRANDE', 'ENSEADA DO SUÁ', 'SANTOS REIS', 'PIEDADE',\n",
       "       'JESUS DE NAZARETH', 'SANTA TEREZA', 'CRUZAMENTO',\n",
       "       'ILHA DO PRÍNCIPE', 'ROMÃO', 'COMDUSA', 'SANTA CECÍLIA',\n",
       "       'VILA RUBIM', 'DE LOURDES', 'DO QUADRO', 'DO CABRAL', 'HORTO',\n",
       "       'SEGURANÇA DO LAR', 'ILHA DO BOI', 'FRADINHOS', 'NAZARETH',\n",
       "       'AEROPORTO', 'ILHAS OCEÂNICAS DE TRINDADE', 'PARQUE INDUSTRIAL'],\n",
       "      dtype=object)"
      ]
     },
     "execution_count": 9,
     "metadata": {},
     "output_type": "execute_result"
    }
   ],
   "source": [
    "df['Neighbourhood'].unique()"
   ]
  },
  {
   "cell_type": "markdown",
   "metadata": {},
   "source": [
    "The data looks clean and ready to use!"
   ]
  },
  {
   "cell_type": "markdown",
   "metadata": {},
   "source": [
    "<a id='eda'></a>\n",
    "## Exploratory Data Analysis\n",
    "\n",
    "Our goal is to determine what factors are related to not showing up for a medical appointment. "
   ]
  },
  {
   "cell_type": "markdown",
   "metadata": {},
   "source": [
    "### Exploring Data"
   ]
  },
  {
   "cell_type": "markdown",
   "metadata": {},
   "source": [
    "As a first step, we create historgrams for each variable to get a quick overview of their distributions."
   ]
  },
  {
   "cell_type": "code",
   "execution_count": 10,
   "metadata": {
    "scrolled": true
   },
   "outputs": [
    {
     "data": {
      "image/png": "[encoded data removed]",
      "text/plain": [
       "<Figure size 360x216 with 1 Axes>"
      ]
     },
     "metadata": {},
     "output_type": "display_data"
    }
   ],
   "source": [
    "# create a histogram for Age with a line marking the average age \n",
    "# I consulted the linked resource: \n",
    "# https://stackoverflow.com/questions/16180946/drawing-average-line-in-histogram-matplotlib\n",
    "df['Age'].hist(bins=15, figsize=(5,3))\n",
    "plt.axvline(df['Age'].mean(), color='red')\n",
    "plt.title('Patient Age', fontsize=14)\n",
    "plt.xlabel('Age')\n",
    "plt.ylabel('Number of Patients');"
   ]
  },
  {
   "cell_type": "code",
   "execution_count": 11,
   "metadata": {},
   "outputs": [
    {
     "data": {
      "image/png": "[encoded data removed]",
      "text/plain": [
       "<Figure size 648x360 with 4 Axes>"
      ]
     },
     "metadata": {},
     "output_type": "display_data"
    }
   ],
   "source": [
    "# create histograms for the other numeric variables\n",
    "df[['SMS_received', 'Scholarship', 'No_show']].hist(bins=15, figsize=(9,5));"
   ]
  },
  {
   "cell_type": "markdown",
   "metadata": {},
   "source": [
    "The histograms make it easy to see:\n",
    "+ The age of patients is right skewed. That is, 50% of the patients are under the age of 40, but the range of ages is 116 years. \n",
    "+ There are far fewer no-shows than \"shows,\" which is when a patient <i>is</i> present for their appointment.\n",
    "+ Far fewer patients received SMS messages than did not receive SMS messages.\n",
    "+ Far few patients received the Bolsa Familia scholarship than did not."
   ]
  },
  {
   "cell_type": "code",
   "execution_count": 12,
   "metadata": {},
   "outputs": [],
   "source": [
    "# create subsets of patients who showed up for their appointments and those who did not\n",
    "no_shows = df.No_show == True\n",
    "shows = df.No_show == False"
   ]
  },
  {
   "cell_type": "code",
   "execution_count": 13,
   "metadata": {},
   "outputs": [
    {
     "data": {
      "text/plain": [
       "0.20193255946510807"
      ]
     },
     "execution_count": 13,
     "metadata": {},
     "output_type": "execute_result"
    }
   ],
   "source": [
    "# calculate the proportion of overall no-shows\n",
    "df.No_show.mean()"
   ]
  },
  {
   "cell_type": "code",
   "execution_count": 14,
   "metadata": {},
   "outputs": [
    {
     "data": {
      "text/plain": [
       "0.32102563174608917"
      ]
     },
     "execution_count": 14,
     "metadata": {},
     "output_type": "execute_result"
    }
   ],
   "source": [
    "# calculate the proportion of patients who received an SMS\n",
    "df.SMS_received.mean()"
   ]
  },
  {
   "cell_type": "markdown",
   "metadata": {},
   "source": [
    "### Age vs. No-show"
   ]
  },
  {
   "cell_type": "code",
   "execution_count": 15,
   "metadata": {},
   "outputs": [
    {
     "data": {
      "text/plain": [
       "(34.31766656212196, 37.790064393252315)"
      ]
     },
     "execution_count": 15,
     "metadata": {},
     "output_type": "execute_result"
    }
   ],
   "source": [
    "# calculating the average age of patients that showed up and those that did not\n",
    "df.Age[no_shows].mean(), df.Age[shows].mean()"
   ]
  },
  {
   "cell_type": "code",
   "execution_count": 16,
   "metadata": {},
   "outputs": [
    {
     "data": {
      "image/png": "[encoded data removed]",
      "text/plain": [
       "<Figure size 432x288 with 1 Axes>"
      ]
     },
     "metadata": {},
     "output_type": "display_data"
    }
   ],
   "source": [
    "# create a histogram of the ages of patients who showed up and those who did not\n",
    "df.Age[shows].hist(alpha=0.5, label='show')\n",
    "df.Age[no_shows].hist(alpha=0.5, label='no-show')\n",
    "plt.legend()\n",
    "plt.title('Age of Patients by No-show', fontsize=14)\n",
    "plt.xlabel('Age')\n",
    "plt.ylabel('Number of Patients');"
   ]
  },
  {
   "cell_type": "markdown",
   "metadata": {},
   "source": [
    "### SMS Received vs. No-show"
   ]
  },
  {
   "cell_type": "code",
   "execution_count": 17,
   "metadata": {},
   "outputs": [],
   "source": [
    "# create susbsets of patients who received a SMS message and those who did not\n",
    "SMS_yes = df.SMS_received == True\n",
    "SMS_no = df.SMS_received == False"
   ]
  },
  {
   "cell_type": "code",
   "execution_count": 18,
   "metadata": {},
   "outputs": [
    {
     "data": {
      "text/plain": [
       "(0.27574544839637, 0.16703311346525418)"
      ]
     },
     "execution_count": 18,
     "metadata": {},
     "output_type": "execute_result"
    }
   ],
   "source": [
    "# calculate the proportion of patients who did not show up for their medical appoints for the SMS subsets\n",
    "df.No_show[SMS_yes].mean(), df.No_show[SMS_no].mean()"
   ]
  },
  {
   "cell_type": "code",
   "execution_count": 19,
   "metadata": {},
   "outputs": [
    {
     "data": {
      "image/png": "[encoded data removed]",
      "text/plain": [
       "<Figure size 432x288 with 1 Axes>"
      ]
     },
     "metadata": {},
     "output_type": "display_data"
    }
   ],
   "source": [
    "# create a bar chart to show the difference in proportions of No-shows for SMS subsets \n",
    "# I consulted the linked resource: https://matplotlib.org/api/_as_gen/matplotlib.pyplot.xticks.html \n",
    "df.groupby('SMS_received').No_show.mean().plot.bar()\n",
    "plt.title('Proportion of No-shows by SMS Received', fontsize=14)\n",
    "plt.xlabel('SMS Received', fontsize=12)\n",
    "plt.ylabel('No-shows', fontsize=12)\n",
    "plt.xticks(np.arange(2),('No', 'Yes'));"
   ]
  },
  {
   "cell_type": "markdown",
   "metadata": {},
   "source": [
    "This is an surprising result! Patients who received an SMS message showed up for the medical appointments 10.9% less of the time."
   ]
  },
  {
   "cell_type": "markdown",
   "metadata": {},
   "source": [
    "### Neighborhood vs. No-show"
   ]
  },
  {
   "cell_type": "code",
   "execution_count": 20,
   "metadata": {},
   "outputs": [
    {
     "data": {
      "text/plain": [
       "Neighbourhood\n",
       "ILHAS OCEÂNICAS DE TRINDADE    1.000000\n",
       "SANTOS DUMONT                  0.289185\n",
       "SANTA CECÍLIA                  0.274554\n",
       "SANTA CLARA                    0.264822\n",
       "ITARARÉ                        0.262664\n",
       "JESUS DE NAZARETH              0.243954\n",
       "HORTO                          0.240000\n",
       "ILHA DO PRÍNCIPE               0.234775\n",
       "CARATOÍRA                      0.230409\n",
       "ANDORINHAS                     0.230327\n",
       "PRAIA DO SUÁ                   0.228261\n",
       "GURIGICA                       0.225966\n",
       "BENTO FERREIRA                 0.224942\n",
       "PARQUE MOSCOSO                 0.223192\n",
       "MARUÍPE                        0.222923\n",
       "DO MOSCOSO                     0.222760\n",
       "ENSEADA DO SUÁ                 0.221277\n",
       "ARIOVALDO FAVALESSA            0.219858\n",
       "ILHA DAS CAIEIRAS              0.219421\n",
       "FONTE GRANDE                   0.218475\n",
       "CRUZAMENTO                     0.217454\n",
       "SÃO JOSÉ                       0.216490\n",
       "BARRO VERMELHO                 0.215130\n",
       "NAZARETH                       0.214815\n",
       "ROMÃO                          0.213995\n",
       "CENTRO                         0.210858\n",
       "UNIVERSITÁRIO                  0.210526\n",
       "SÃO PEDRO                      0.210376\n",
       "MARIA ORTIZ                    0.209991\n",
       "SANTA HELENA                   0.207865\n",
       "                                 ...   \n",
       "CONQUISTA                      0.188457\n",
       "FRADINHOS                      0.186047\n",
       "BOA VISTA                      0.185897\n",
       "ANTÔNIO HONÓRIO                0.184502\n",
       "PRAIA DO CANTO                 0.183575\n",
       "FORTE SÃO JOÃO                 0.183166\n",
       "TABUAZEIRO                     0.182950\n",
       "JOANA D´ARC                    0.180799\n",
       "COMDUSA                        0.180645\n",
       "SANTA LUÍZA                    0.179907\n",
       "JABOUR                         0.179753\n",
       "NOVA PALESTINA                 0.177562\n",
       "REDENÇÃO                       0.177077\n",
       "SANTO ANTÔNIO                  0.176256\n",
       "PONTAL DE CAMBURI              0.173913\n",
       "CONSOLAÇÃO                     0.172238\n",
       "REPÚBLICA                      0.171257\n",
       "MATA DA PRAIA                  0.170807\n",
       "MORADA DE CAMBURI              0.166667\n",
       "VILA RUBIM                     0.165687\n",
       "DO QUADRO                      0.164900\n",
       "JARDIM DA PENHA                0.162755\n",
       "SANTA MARTHA                   0.158416\n",
       "DO CABRAL                      0.157143\n",
       "DE LOURDES                     0.154098\n",
       "SOLON BORGES                   0.147122\n",
       "MÁRIO CYPRESTE                 0.145553\n",
       "AEROPORTO                      0.125000\n",
       "ILHA DO BOI                    0.085714\n",
       "PARQUE INDUSTRIAL              0.000000\n",
       "Name: No_show, Length: 81, dtype: float64"
      ]
     },
     "execution_count": 20,
     "metadata": {},
     "output_type": "execute_result"
    }
   ],
   "source": [
    "# calculate the proportion of no-shows for each neighborhood\n",
    "# I consulted the linked resource: \n",
    "# https://pandas.pydata.org/pandas-docs/stable/generated/pandas.DataFrame.sort_values.html \n",
    "df.groupby('Neighbourhood').No_show.mean().sort_values(ascending=False)"
   ]
  },
  {
   "cell_type": "code",
   "execution_count": 21,
   "metadata": {},
   "outputs": [
    {
     "data": {
      "image/png": "[encoded data removed]",
      "text/plain": [
       "<Figure size 432x288 with 1 Axes>"
      ]
     },
     "metadata": {},
     "output_type": "display_data"
    }
   ],
   "source": [
    "# create a histogram of the number neighborhoods by proportion of no-shows\n",
    "df.groupby('Neighbourhood').No_show.mean().hist(bins=50)\n",
    "plt.title('Proportions of No-shows by Neighborhood', fontsize=14)\n",
    "plt.xlabel('Proportion of No-shows')\n",
    "plt.ylabel('Number of Neighborhoods');"
   ]
  },
  {
   "cell_type": "markdown",
   "metadata": {},
   "source": [
    "The histogram makes it easy to see that all neighborhoods but one have no-show rates less than or equal to 30%. Creating an ascending list of the patient counts by neighborhood lets us look more into the neighhborhoods with 100% no-show rates."
   ]
  },
  {
   "cell_type": "code",
   "execution_count": 22,
   "metadata": {},
   "outputs": [
    {
     "data": {
      "text/plain": [
       "PARQUE INDUSTRIAL                 1\n",
       "ILHAS OCEÂNICAS DE TRINDADE       2\n",
       "AEROPORTO                         8\n",
       "ILHA DO FRADE                    10\n",
       "ILHA DO BOI                      35\n",
       "PONTAL DE CAMBURI                69\n",
       "MORADA DE CAMBURI                96\n",
       "NAZARETH                        135\n",
       "SEGURANÇA DO LAR                145\n",
       "UNIVERSITÁRIO                   152\n",
       "HORTO                           175\n",
       "SANTA HELENA                    178\n",
       "ENSEADA DO SUÁ                  235\n",
       "FRADINHOS                       258\n",
       "ANTÔNIO HONÓRIO                 271\n",
       "ARIOVALDO FAVALESSA             282\n",
       "DE LOURDES                      305\n",
       "COMDUSA                         310\n",
       "BOA VISTA                       312\n",
       "MÁRIO CYPRESTE                  371\n",
       "DO MOSCOSO                      413\n",
       "BARRO VERMELHO                  423\n",
       "SANTA LUÍZA                     428\n",
       "SANTA LÚCIA                     438\n",
       "SANTA CECÍLIA                   448\n",
       "PIEDADE                         452\n",
       "SOLON BORGES                    469\n",
       "SANTA CLARA                     506\n",
       "ESTRELINHA                      538\n",
       "SANTOS REIS                     547\n",
       "                               ... \n",
       "JOANA D´ARC                    1427\n",
       "SÃO BENEDITO                   1439\n",
       "REDENÇÃO                       1553\n",
       "SÃO CRISTÓVÃO                  1836\n",
       "ILHA DE SANTA MARIA            1885\n",
       "FORTE SÃO JOÃO                 1889\n",
       "MARUÍPE                        1902\n",
       "BELA VISTA                     1907\n",
       "SÃO JOSÉ                       1977\n",
       "GURIGICA                       2018\n",
       "ROMÃO                          2215\n",
       "DA PENHA                       2217\n",
       "ANDORINHAS                     2262\n",
       "NOVA PALESTINA                 2264\n",
       "ILHA DO PRÍNCIPE               2266\n",
       "SÃO PEDRO                      2448\n",
       "JABOUR                         2509\n",
       "CARATOÍRA                      2565\n",
       "SANTO ANDRÉ                    2571\n",
       "SANTO ANTÔNIO                  2746\n",
       "BONFIM                         2773\n",
       "JESUS DE NAZARETH              2853\n",
       "SANTA MARTHA                   3131\n",
       "TABUAZEIRO                     3132\n",
       "CENTRO                         3334\n",
       "ITARARÉ                        3514\n",
       "JARDIM DA PENHA                3877\n",
       "RESISTÊNCIA                    4431\n",
       "MARIA ORTIZ                    5805\n",
       "JARDIM CAMBURI                 7717\n",
       "Name: Neighbourhood, Length: 81, dtype: int64"
      ]
     },
     "execution_count": 22,
     "metadata": {},
     "output_type": "execute_result"
    }
   ],
   "source": [
    "# create the ascending list of patient counts by neighborhood\n",
    "# I consulted the linked resource: \n",
    "# https://pandas.pydata.org/pandas-docs/stable/generated/pandas.Series.value_counts.html \n",
    "df['Neighbourhood'].value_counts(ascending=True)"
   ]
  },
  {
   "cell_type": "markdown",
   "metadata": {},
   "source": [
    "And sure enough, we see that ILHAS OCEÂNICAS DE TRINDADE only has 2 patients in the dataset, so it wasn't hard for 100% of patients in that neighborhood to miss their appointments. "
   ]
  },
  {
   "cell_type": "markdown",
   "metadata": {},
   "source": [
    "### Scholarship vs. No-show"
   ]
  },
  {
   "cell_type": "markdown",
   "metadata": {},
   "source": [
    "We want to know if people who receive the Bolsa Familia scholarship fail to show up for medical appointments more or less than those who do not receive the scholarship."
   ]
  },
  {
   "cell_type": "code",
   "execution_count": 23,
   "metadata": {},
   "outputs": [],
   "source": [
    "# create susbsets of patients who received the Bolsa Familia scholarship and those who do not\n",
    "Scholarship_yes = df.Scholarship == True\n",
    "Scholarship_no = df.Scholarship == False"
   ]
  },
  {
   "cell_type": "code",
   "execution_count": 24,
   "metadata": {
    "scrolled": true
   },
   "outputs": [
    {
     "data": {
      "text/plain": [
       "(0.2373630420771568, 0.19807155900708365)"
      ]
     },
     "execution_count": 24,
     "metadata": {},
     "output_type": "execute_result"
    }
   ],
   "source": [
    "# calculate the proportion of no-shows for both subsets\n",
    "df.No_show[Scholarship_yes].mean(), df.No_show[Scholarship_no].mean()"
   ]
  },
  {
   "cell_type": "markdown",
   "metadata": {},
   "source": [
    "Patients who receive the Bolsa Familia scholarship were no-shows 3.9% more often than patients who did not receive the scholarship. "
   ]
  },
  {
   "cell_type": "code",
   "execution_count": 25,
   "metadata": {},
   "outputs": [
    {
     "data": {
      "image/png": "[encoded data removed]",
      "text/plain": [
       "<Figure size 432x288 with 1 Axes>"
      ]
     },
     "metadata": {},
     "output_type": "display_data"
    }
   ],
   "source": [
    "# create a bar chart to show the difference in proportions of No-shows for Scholarship subsets \n",
    "df.groupby('Scholarship').No_show.mean().plot.bar()\n",
    "plt.title('Proportion of No-shows by Scholarship Status', fontsize=14)\n",
    "plt.xlabel('Scholarship', fontsize=12)\n",
    "plt.ylabel('No-shows', fontsize=12)\n",
    "plt.xticks(np.arange(2),('No', 'Yes'));"
   ]
  },
  {
   "cell_type": "markdown",
   "metadata": {},
   "source": [
    "<a id='limitations'></a>\n",
    "## Limitations\n",
    "While the dataset was generally clean and did not contain any missing values, there were a few steps that required some research to resolve. First, the Patient ID column was loaded as a float value in scientific notation. Since these values are just a label for each patient, it was necessary to change their data type to integers. This was required more steps and research time than I anticipated, but I learned some useful Python tricks along the way!\n",
    "\n",
    "Additionally, the range of Age in the data required additional research to assess the validity of the extreme values. The data include patients with recorded ages of -1 years and 116 years. -1 years old is an impossible age and 116 years old seems highly unlikely. This situation was a helpful learning experience, because I was able to use resources external to the data to interpret these counterintuitive values. I found an explanation for the -1 years old data point in the discussion forums on Kaggle where the dataset was uploaded. The age of -1 referred to a pregnant woman having a medical appointment for her unborn child. I also found information regarding the oldest poeple who have lived, including a person who lived to be 116 in Brazil around the time the dataset was collected. "
   ]
  },
  {
   "cell_type": "markdown",
   "metadata": {},
   "source": [
    "<a id='conclusions'></a>\n",
    "## Conclusions\n",
    "Since we are not conducting any tests for statistical significance, the following conclusions only describe the *relationships* between the variables described. Additionally, these conclusions only describe the sample dataset, and make no claims regarding the population of Brazil as a whole. \n",
    "\n",
    "+ First, we found that 20.2% of the scheduled appointments in the sample resulted in no-shows.\n",
    "+ We found the sample of patients was younger on average, with 50% of the patients under age 40, with an an age range of 116 years.\n",
    "+ 32.1% of patients received an SMS message, but patients who received an SMS message were no-shows 10.9% more often than patients who did not receive an SMS message. \n",
    "+ The average age of no-show patients is 34.3 years old. The average age of patients who did show up for appointments is 37.8 years old. \n",
    "+ Excluding one neighborhood with only two patients sampled, the 5 neighborhoods with the highest no-show rates are:\n",
    "     + Santos Dumont\n",
    "     + Santa Cecilia\n",
    "     + Santa Clara\n",
    "     + Itarare\n",
    "     + Jesus de Nazareth\n",
    "+ Patients who receive the Bolsa Familia social welfare scholarship were no-shows 3.9% more often than patients who did not receive the scholarship"
   ]
  }
 ],
 "metadata": {
  "kernelspec": {
   "display_name": "Python 3",
   "language": "python",
   "name": "python3"
  },
  "language_info": {
   "codemirror_mode": {
    "name": "ipython",
    "version": 3
   },
   "file_extension": ".py",
   "mimetype": "text/x-python",
   "name": "python",
   "nbconvert_exporter": "python",
   "pygments_lexer": "ipython3",
   "version": "3.6.5"
  }
 },
 "nbformat": 4,
 "nbformat_minor": 2
}
